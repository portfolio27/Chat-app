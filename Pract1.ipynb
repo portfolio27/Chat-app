{
  "nbformat": 4,
  "nbformat_minor": 0,
  "metadata": {
    "colab": {
      "provenance": [],
      "authorship_tag": "ABX9TyNwzCLlbAImxTirRZx9crqk",
      "include_colab_link": true
    },
    "kernelspec": {
      "name": "python3",
      "display_name": "Python 3"
    },
    "language_info": {
      "name": "python"
    }
  },
  "cells": [
    {
      "cell_type": "markdown",
      "metadata": {
        "id": "view-in-github",
        "colab_type": "text"
      },
      "source": [
        "<a href=\"https://colab.research.google.com/github/portfolio27/Chat-app/blob/main/Pract1.ipynb\" target=\"_parent\"><img src=\"https://colab.research.google.com/assets/colab-badge.svg\" alt=\"Open In Colab\"/></a>"
      ]
    },
    {
      "cell_type": "code",
      "execution_count": 1,
      "metadata": {
        "colab": {
          "base_uri": "https://localhost:8080/"
        },
        "id": "T3x-cB7_NyoM",
        "outputId": "a68c2617-826c-4a10-98bc-936c7afb5e94"
      },
      "outputs": [
        {
          "output_type": "stream",
          "name": "stdout",
          "text": [
            "['A', 'S', 'F', 'B']\n"
          ]
        }
      ],
      "source": [
        "#Aim: Implement Breadth first search algorithm for Romanian map problem.\n",
        "\n",
        "class first:\n",
        "    def __init__(self,graph,start,goal):\n",
        "      self.start = start\n",
        "      self.goal = goal\n",
        "      self.graph=graph\n",
        "    def bfs_shortest_path(self):\n",
        "        explored = []\n",
        "        queue = [[self.start]]\n",
        "        if self.start == self.goal:\n",
        "          return \"That was easy! Start = goal\"\n",
        "        while queue:\n",
        "              path = queue.pop(0)\n",
        "              node = path[-1]\n",
        "              if node not in explored:\n",
        "                     neighbours = self.graph[node]\n",
        "                     for neighbour in neighbours:\n",
        "                            new_path = list(path)\n",
        "                            new_path.append(neighbour)\n",
        "                            queue.append(new_path)\n",
        "              if neighbour == self.goal:\n",
        "                    return new_path\n",
        "              explored.append(node)\n",
        "        return \"So sorry, but a connecting path doesn't exist :(\"\n",
        "graph = {'A': ['Z', 'S', 'T'],\n",
        "         'B': ['U','P', 'G','F'],\n",
        "         'C': ['D', 'R', 'P'],\n",
        "         'D': ['M'], 'E': ['H'],'I': ['V','N'],\n",
        "         'L': ['T','M'],\n",
        "         'O': ['Z','S'],\n",
        "         'P': ['R'],\n",
        "         'U': ['V'],\n",
        "         'Z': ['O','A'],\n",
        "         'S': ['O','A','R','F'],\n",
        "         'T': ['A','L'],\n",
        "         'M': ['L','D'],\n",
        "        'R': ['S','P','C'],\n",
        "        'F': ['S','B']}\n",
        "f=first(graph,'A', 'B')\n",
        "print(f.bfs_shortest_path())\n"
      ]
    },
    {
      "cell_type": "code",
      "source": [
        "#AIM: Implement Iterative deep depth first search for Romanian map problem.\n",
        "\n",
        "graph = {'Arad': ['Zerind', 'Sibiu', 'Timisoara'],\n",
        "         'Bucharest': ['Urziceni','Pitesti', 'Giurgiu','Fagaras'],\n",
        "         'Craiova': ['Dobreta', 'Rimnicu Vilcea', 'Pitesti'],\n",
        "         'Dobreta': ['Mehadia'],\n",
        "         'Eforie': ['Hirsova'],\n",
        "         'Iasai': ['Vaslui','Neamt'],\n",
        "         'Lugoj': ['Timisoara','Mehadia'],\n",
        "         'Oradea': ['Zerind','Sibiu'],\n",
        "         'Pitesti': ['Rimnicu Vilcea'],\n",
        "         'Urziceni': ['Vaslui'],\n",
        "         'Zerind': ['Oradea','Arad'],\n",
        "         'Sibiu': ['Oradea','Arad','Rimnicu Vilcea','Fagaras'],\n",
        "         'Timisoara': ['Arad','Lugoj'],\n",
        "         'Mehadia': ['Lugoj','Dobreta'],\n",
        "         'Rimnicu Vilcea': ['Sibiu','Pitesti','Craiova'],\n",
        "         'Fagaras': ['Sibiu','Bucharest'],\n",
        "         'Giurgiu': ['Bucharest'],\n",
        "         'Vaslui': ['Urziceni','Iasai'],\n",
        "         'Neamt': ['Iasai']}\n",
        "def IDDFS(root, goal):\n",
        "    depth = 0\n",
        "    while True:\n",
        "        print (\"Looping at depth %i \" % (depth))\n",
        "        result = DLS(root, goal, depth)\n",
        "        print (\"Result: %s, Goal: %s\" % (result, goal))\n",
        "        if result == goal:\n",
        "            return result\n",
        "        depth = depth +1\n",
        "def DLS(node, goal, depth):\n",
        "    print (\"node: %s, goal %s, depth: %i\" % (node, goal, depth))\n",
        "    if depth == 0 and node == goal:\n",
        "        print (\" --- Found goal, returning --- \")\n",
        "        return node\n",
        "    elif depth > 0:\n",
        "        print (\"Looping through children: %s\" % (graph.get(node, [])))\n",
        "        for child in graph.get(node, []):\n",
        "            if goal == DLS(child, goal, depth-1):\n",
        "                return goal\n",
        "\n",
        "IDDFS('Arad', 'Bucharest')\n"
      ],
      "metadata": {
        "colab": {
          "base_uri": "https://localhost:8080/",
          "height": 1000
        },
        "id": "-mOWJsVfOTiG",
        "outputId": "7c3b2e21-95fb-4623-e52a-791fa5d12f46"
      },
      "execution_count": 2,
      "outputs": [
        {
          "output_type": "stream",
          "name": "stdout",
          "text": [
            "Looping at depth 0 \n",
            "node: Arad, goal Bucharest, depth: 0\n",
            "Result: None, Goal: Bucharest\n",
            "Looping at depth 1 \n",
            "node: Arad, goal Bucharest, depth: 1\n",
            "Looping through children: ['Zerind', 'Sibiu', 'Timisoara']\n",
            "node: Zerind, goal Bucharest, depth: 0\n",
            "node: Sibiu, goal Bucharest, depth: 0\n",
            "node: Timisoara, goal Bucharest, depth: 0\n",
            "Result: None, Goal: Bucharest\n",
            "Looping at depth 2 \n",
            "node: Arad, goal Bucharest, depth: 2\n",
            "Looping through children: ['Zerind', 'Sibiu', 'Timisoara']\n",
            "node: Zerind, goal Bucharest, depth: 1\n",
            "Looping through children: ['Oradea', 'Arad']\n",
            "node: Oradea, goal Bucharest, depth: 0\n",
            "node: Arad, goal Bucharest, depth: 0\n",
            "node: Sibiu, goal Bucharest, depth: 1\n",
            "Looping through children: ['Oradea', 'Arad', 'Rimnicu Vilcea', 'Fagaras']\n",
            "node: Oradea, goal Bucharest, depth: 0\n",
            "node: Arad, goal Bucharest, depth: 0\n",
            "node: Rimnicu Vilcea, goal Bucharest, depth: 0\n",
            "node: Fagaras, goal Bucharest, depth: 0\n",
            "node: Timisoara, goal Bucharest, depth: 1\n",
            "Looping through children: ['Arad', 'Lugoj']\n",
            "node: Arad, goal Bucharest, depth: 0\n",
            "node: Lugoj, goal Bucharest, depth: 0\n",
            "Result: None, Goal: Bucharest\n",
            "Looping at depth 3 \n",
            "node: Arad, goal Bucharest, depth: 3\n",
            "Looping through children: ['Zerind', 'Sibiu', 'Timisoara']\n",
            "node: Zerind, goal Bucharest, depth: 2\n",
            "Looping through children: ['Oradea', 'Arad']\n",
            "node: Oradea, goal Bucharest, depth: 1\n",
            "Looping through children: ['Zerind', 'Sibiu']\n",
            "node: Zerind, goal Bucharest, depth: 0\n",
            "node: Sibiu, goal Bucharest, depth: 0\n",
            "node: Arad, goal Bucharest, depth: 1\n",
            "Looping through children: ['Zerind', 'Sibiu', 'Timisoara']\n",
            "node: Zerind, goal Bucharest, depth: 0\n",
            "node: Sibiu, goal Bucharest, depth: 0\n",
            "node: Timisoara, goal Bucharest, depth: 0\n",
            "node: Sibiu, goal Bucharest, depth: 2\n",
            "Looping through children: ['Oradea', 'Arad', 'Rimnicu Vilcea', 'Fagaras']\n",
            "node: Oradea, goal Bucharest, depth: 1\n",
            "Looping through children: ['Zerind', 'Sibiu']\n",
            "node: Zerind, goal Bucharest, depth: 0\n",
            "node: Sibiu, goal Bucharest, depth: 0\n",
            "node: Arad, goal Bucharest, depth: 1\n",
            "Looping through children: ['Zerind', 'Sibiu', 'Timisoara']\n",
            "node: Zerind, goal Bucharest, depth: 0\n",
            "node: Sibiu, goal Bucharest, depth: 0\n",
            "node: Timisoara, goal Bucharest, depth: 0\n",
            "node: Rimnicu Vilcea, goal Bucharest, depth: 1\n",
            "Looping through children: ['Sibiu', 'Pitesti', 'Craiova']\n",
            "node: Sibiu, goal Bucharest, depth: 0\n",
            "node: Pitesti, goal Bucharest, depth: 0\n",
            "node: Craiova, goal Bucharest, depth: 0\n",
            "node: Fagaras, goal Bucharest, depth: 1\n",
            "Looping through children: ['Sibiu', 'Bucharest']\n",
            "node: Sibiu, goal Bucharest, depth: 0\n",
            "node: Bucharest, goal Bucharest, depth: 0\n",
            " --- Found goal, returning --- \n",
            "Result: Bucharest, Goal: Bucharest\n"
          ]
        },
        {
          "output_type": "execute_result",
          "data": {
            "text/plain": [
              "'Bucharest'"
            ],
            "application/vnd.google.colaboratory.intrinsic+json": {
              "type": "string"
            }
          },
          "metadata": {},
          "execution_count": 2
        }
      ]
    }
  ]
}